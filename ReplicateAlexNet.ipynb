{
  "cells": [
    {
      "cell_type": "markdown",
      "metadata": {
        "id": "IJ12ck6MW44S"
      },
      "source": [
        "# Replicating AlexNet in Keras"
      ]
    },
    {
      "cell_type": "code",
      "execution_count": 1,
      "metadata": {
        "id": "ZdMPBJWdXCLS"
      },
      "outputs": [],
      "source": [
        "from tensorflow.keras.datasets import cifar10\n",
        "from tensorflow.keras.preprocessing.image import ImageDataGenerator\n",
        "from tensorflow.keras.models import Sequential\n",
        "from tensorflow.keras.layers import Flatten, Activation, Dropout, Dense\n",
        "from tensorflow.keras.layers import MaxPooling2D, Conv2D, ZeroPadding2D\n",
        "from tensorflow.keras.layers import BatchNormalization\n",
        "from tensorflow.keras.regularizers import l2\n",
        "from tensorflow.keras.optimizers import Adadelta\n",
        "from tensorflow.keras.utils import to_categorical"
      ]
    },
    {
      "cell_type": "code",
      "execution_count": 2,
      "metadata": {
        "colab": {
          "base_uri": "https://localhost:8080/"
        },
        "id": "-q09Nf6VY6DA",
        "outputId": "669764d2-7aa7-488b-9424-60bffa8a8c8b"
      },
      "outputs": [
        {
          "output_type": "stream",
          "name": "stdout",
          "text": [
            "Downloading data from https://www.cs.toronto.edu/~kriz/cifar-10-python.tar.gz\n",
            "170498071/170498071 [==============================] - 6s 0us/step\n",
            "x_train shape: (50000, 32, 32, 3)\n",
            "50000 train samples\n",
            "10000 test samples\n"
          ]
        }
      ],
      "source": [
        "(x_train,y_train), (x_test, y_test) = cifar10.load_data() # loading the CIFAR10 Data\n",
        "\n",
        "print('x_train shape:', x_train.shape)    # Display the shape of the data\n",
        "print(x_train.shape[0], 'train samples')\n",
        "print(x_test.shape[0], 'test samples')\n",
        "\n",
        "num_classes = 10\n",
        "y_train = to_categorical(y_train, num_classes) # one hot encoding\n",
        "y_test = to_categorical(y_test, num_classes)"
      ]
    },
    {
      "cell_type": "code",
      "execution_count": 3,
      "metadata": {
        "colab": {
          "base_uri": "https://localhost:8080/"
        },
        "id": "sD5EV-T1a5vQ",
        "outputId": "d5584b3b-6dbd-48fd-b7e6-45772eaeeb84"
      },
      "outputs": [
        {
          "output_type": "stream",
          "name": "stdout",
          "text": [
            "Model: \"sequential\"\n",
            "_________________________________________________________________\n",
            " Layer (type)                Output Shape              Param #   \n",
            "=================================================================\n",
            " conv2d (Conv2D)             (None, 32, 32, 96)        34944     \n",
            "                                                                 \n",
            " batch_normalization (BatchN  (None, 32, 32, 96)       384       \n",
            " ormalization)                                                   \n",
            "                                                                 \n",
            " activation (Activation)     (None, 32, 32, 96)        0         \n",
            "                                                                 \n",
            " max_pooling2d (MaxPooling2D  (None, 16, 16, 96)       0         \n",
            " )                                                               \n",
            "                                                                 \n",
            " conv2d_1 (Conv2D)           (None, 16, 16, 256)       614656    \n",
            "                                                                 \n",
            " batch_normalization_1 (Batc  (None, 16, 16, 256)      1024      \n",
            " hNormalization)                                                 \n",
            "                                                                 \n",
            " activation_1 (Activation)   (None, 16, 16, 256)       0         \n",
            "                                                                 \n",
            " max_pooling2d_1 (MaxPooling  (None, 8, 8, 256)        0         \n",
            " 2D)                                                             \n",
            "                                                                 \n",
            " zero_padding2d (ZeroPadding  (None, 10, 10, 256)      0         \n",
            " 2D)                                                             \n",
            "                                                                 \n",
            " conv2d_2 (Conv2D)           (None, 10, 10, 512)       1180160   \n",
            "                                                                 \n",
            " batch_normalization_2 (Batc  (None, 10, 10, 512)      2048      \n",
            " hNormalization)                                                 \n",
            "                                                                 \n",
            " activation_2 (Activation)   (None, 10, 10, 512)       0         \n",
            "                                                                 \n",
            " max_pooling2d_2 (MaxPooling  (None, 5, 5, 512)        0         \n",
            " 2D)                                                             \n",
            "                                                                 \n",
            " zero_padding2d_1 (ZeroPaddi  (None, 7, 7, 512)        0         \n",
            " ng2D)                                                           \n",
            "                                                                 \n",
            " conv2d_3 (Conv2D)           (None, 7, 7, 1024)        4719616   \n",
            "                                                                 \n",
            " batch_normalization_3 (Batc  (None, 7, 7, 1024)       4096      \n",
            " hNormalization)                                                 \n",
            "                                                                 \n",
            " activation_3 (Activation)   (None, 7, 7, 1024)        0         \n",
            "                                                                 \n",
            " zero_padding2d_2 (ZeroPaddi  (None, 9, 9, 1024)       0         \n",
            " ng2D)                                                           \n",
            "                                                                 \n",
            " conv2d_4 (Conv2D)           (None, 9, 9, 1024)        9438208   \n",
            "                                                                 \n",
            " batch_normalization_4 (Batc  (None, 9, 9, 1024)       4096      \n",
            " hNormalization)                                                 \n",
            "                                                                 \n",
            " activation_4 (Activation)   (None, 9, 9, 1024)        0         \n",
            "                                                                 \n",
            " max_pooling2d_3 (MaxPooling  (None, 4, 4, 1024)       0         \n",
            " 2D)                                                             \n",
            "                                                                 \n",
            " flatten (Flatten)           (None, 16384)             0         \n",
            "                                                                 \n",
            " dense (Dense)               (None, 3072)              50334720  \n",
            "                                                                 \n",
            " batch_normalization_5 (Batc  (None, 3072)             12288     \n",
            " hNormalization)                                                 \n",
            "                                                                 \n",
            " activation_5 (Activation)   (None, 3072)              0         \n",
            "                                                                 \n",
            " dropout (Dropout)           (None, 3072)              0         \n",
            "                                                                 \n",
            " dense_1 (Dense)             (None, 4096)              12587008  \n",
            "                                                                 \n",
            " batch_normalization_6 (Batc  (None, 4096)             16384     \n",
            " hNormalization)                                                 \n",
            "                                                                 \n",
            " activation_6 (Activation)   (None, 4096)              0         \n",
            "                                                                 \n",
            " dropout_1 (Dropout)         (None, 4096)              0         \n",
            "                                                                 \n",
            " dense_2 (Dense)             (None, 10)                40970     \n",
            "                                                                 \n",
            " batch_normalization_7 (Batc  (None, 10)               40        \n",
            " hNormalization)                                                 \n",
            "                                                                 \n",
            " activation_7 (Activation)   (None, 10)                0         \n",
            "                                                                 \n",
            "=================================================================\n",
            "Total params: 78,990,642\n",
            "Trainable params: 78,970,462\n",
            "Non-trainable params: 20,180\n",
            "_________________________________________________________________\n",
            "None\n"
          ]
        }
      ],
      "source": [
        "l2_reg = 0\n",
        "# Initialize Model\n",
        "model = Sequential()\n",
        "\n",
        "model.add(Conv2D(96, (11, 11), input_shape=x_train.shape[1:], padding='same',kernel_regularizer= l2(l2_reg) ))\n",
        "model.add(BatchNormalization())\n",
        "model.add(Activation('relu'))\n",
        "model.add(MaxPooling2D(pool_size=(2,2)))\n",
        "\n",
        "model.add(Conv2D(256, (5, 5), padding='same'))\n",
        "model.add(BatchNormalization())\n",
        "model.add(Activation('relu'))\n",
        "model.add(MaxPooling2D(pool_size=(2,2)))\n",
        "\n",
        "model.add(ZeroPadding2D((1,1)))\n",
        "model.add(Conv2D(512, (3, 3), padding='same'))\n",
        "model.add(BatchNormalization())\n",
        "model.add(Activation('relu'))\n",
        "model.add(MaxPooling2D(pool_size=(2,2)))\n",
        "\n",
        "model.add(ZeroPadding2D((1,1)))\n",
        "model.add(Conv2D(1024, (3, 3), padding='same'))\n",
        "model.add(BatchNormalization())\n",
        "model.add(Activation('relu'))\n",
        "\n",
        "model.add(ZeroPadding2D((1,1)))\n",
        "model.add(Conv2D(1024, (3, 3), padding='same'))\n",
        "model.add(BatchNormalization())\n",
        "model.add(Activation('relu'))\n",
        "model.add(MaxPooling2D(pool_size=(2,2)))\n",
        "\n",
        "model.add(Flatten())     # 1st fully connected\n",
        "model.add(Dense(3072))\n",
        "model.add(BatchNormalization())\n",
        "model.add(Activation('relu'))\n",
        "model.add(Dropout(0.5))\n",
        "\n",
        "model.add(Dense(4096))\n",
        "model.add(BatchNormalization())\n",
        "model.add(Activation('relu'))\n",
        "model.add(Dropout(0.5))\n",
        "\n",
        "model.add(Dense(num_classes))\n",
        "model.add(BatchNormalization())\n",
        "model.add(Activation('softmax'))\n",
        "\n",
        "print(model.summary())\n",
        "\n",
        "model.compile(loss = 'categorical_crossentropy',\n",
        "              optimizer = Adadelta(),\n",
        "              metrics = ['accuracy'])\n"
      ]
    },
    {
      "cell_type": "code",
      "execution_count": 7,
      "metadata": {
        "colab": {
          "base_uri": "https://localhost:8080/"
        },
        "id": "hLKpW7Y9gME_",
        "outputId": "54a4ec21-519a-413d-ff62-d23a9efe10ee"
      },
      "outputs": [
        {
          "output_type": "stream",
          "name": "stdout",
          "text": [
            "Epoch 1/2\n",
            "782/782 [==============================] - 83s 106ms/step - loss: 0.9684 - accuracy: 0.7729 - val_loss: 1.1754 - val_accuracy: 0.6606\n",
            "Epoch 2/2\n",
            "782/782 [==============================] - 85s 109ms/step - loss: 0.9617 - accuracy: 0.7773 - val_loss: 1.1718 - val_accuracy: 0.6607\n"
          ]
        }
      ],
      "source": [
        "batch_size = 64\n",
        "epochs = 2\n",
        "history = model.fit(x_train, y_train,\n",
        "                    batch_size= batch_size,\n",
        "                    epochs = epochs,\n",
        "                    validation_data = (x_test, y_test),\n",
        "                    shuffle = True)\n",
        "model.save('cifar10_AlexNet.h5')\n"
      ]
    },
    {
      "cell_type": "code",
      "execution_count": 8,
      "metadata": {
        "id": "qBVwKXmNhjyP",
        "colab": {
          "base_uri": "https://localhost:8080/"
        },
        "outputId": "189ac2cb-8ce4-4e7d-b353-44a61b60c7c2"
      },
      "outputs": [
        {
          "output_type": "stream",
          "name": "stdout",
          "text": [
            "313/313 [==============================] - 6s 21ms/step - loss: 1.1718 - accuracy: 0.6606\n",
            "Test Loss:  1.1717729568481445\n",
            "Test Accuracy:  0.6606000065803528\n"
          ]
        }
      ],
      "source": [
        "scores = model.evaluate(x_test, y_test, verbose = 1)\n",
        "print('Test Loss: ', scores[0])\n",
        "print('Test Accuracy: ', scores[1])"
      ]
    },
    {
      "cell_type": "code",
      "source": [],
      "metadata": {
        "id": "JWldhRY-Lxae"
      },
      "execution_count": null,
      "outputs": []
    }
  ],
  "metadata": {
    "colab": {
      "provenance": [],
      "gpuType": "T4"
    },
    "kernelspec": {
      "display_name": "Python 3",
      "name": "python3"
    },
    "language_info": {
      "name": "python"
    },
    "accelerator": "GPU"
  },
  "nbformat": 4,
  "nbformat_minor": 0
}